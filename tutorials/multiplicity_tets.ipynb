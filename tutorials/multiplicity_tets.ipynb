{
 "cells": [
  {
   "cell_type": "code",
   "execution_count": 1,
   "id": "0e520279-ba5f-4872-a38d-27487ed26c56",
   "metadata": {},
   "outputs": [
    {
     "name": "stderr",
     "output_type": "stream",
     "text": [
      "2024-06-10 14:39:13.224762: I tensorflow/core/platform/cpu_feature_guard.cc:193] This TensorFlow binary is optimized with oneAPI Deep Neural Network Library (oneDNN) to use the following CPU instructions in performance-critical operations:  SSE4.1 SSE4.2 AVX AVX2 FMA\n",
      "To enable them in other operations, rebuild TensorFlow with the appropriate compiler flags.\n"
     ]
    }
   ],
   "source": [
    "%load_ext autoreload\n",
    "%autoreload 2\n",
    "import sys\n",
    "sys.path.append('../creme/')\n",
    "import creme\n",
    "import utils\n",
    "import custom_model\n",
    "import pandas as pd\n",
    "import matplotlib.pyplot as plt\n",
    "import numpy as np\n",
    "import shuffle"
   ]
  },
  {
   "cell_type": "markdown",
   "id": "f3083d60-240d-4c05-afc2-02bded899c81",
   "metadata": {},
   "source": [
    "# Load Enformer and example sequences"
   ]
  },
  {
   "cell_type": "code",
   "execution_count": 2,
   "id": "5e3979fd-a872-41fa-afc4-109ee830b141",
   "metadata": {},
   "outputs": [
    {
     "name": "stderr",
     "output_type": "stream",
     "text": [
      "2024-06-10 14:39:17.638837: I tensorflow/core/platform/cpu_feature_guard.cc:193] This TensorFlow binary is optimized with oneAPI Deep Neural Network Library (oneDNN) to use the following CPU instructions in performance-critical operations:  SSE4.1 SSE4.2 AVX AVX2 FMA\n",
      "To enable them in other operations, rebuild TensorFlow with the appropriate compiler flags.\n",
      "2024-06-10 14:39:18.081015: I tensorflow/core/common_runtime/gpu/gpu_device.cc:1613] Created device /job:localhost/replica:0/task:0/device:GPU:0 with 78954 MB memory:  -> device: 0, name: NVIDIA A100 80GB PCIe, pci bus id: 0000:85:00.0, compute capability: 8.0\n"
     ]
    }
   ],
   "source": [
    "track_index = [5111]\n",
    "model = custom_model.Enformer(track_index=track_index)\n",
    "target_df = pd.read_csv(f'../data/enformer_targets_human.txt', sep='\\t')\n",
    "cell_line_info = {i: [t, utils.clean_cell_name(target_df.iloc[t]['description'])] for i, t in\n",
    "              enumerate(track_index)}"
   ]
  },
  {
   "cell_type": "code",
   "execution_count": 81,
   "id": "5b84bb66-1c29-448f-b78f-3ec690e39d22",
   "metadata": {},
   "outputs": [],
   "source": [
    "fasta_path = f'../data/GRCh38.primary_assembly.genome.fa'\n",
    "seq_parser = utils.SequenceParser(fasta_path)\n",
    "\n",
    "gene = 'KIT_chr4_54657941_+'\n",
    "\n",
    "gene_name, chrom, start, strand = gene.split('_')\n",
    "wt_seq = seq_parser.extract_seq_centered(chrom, int(start), strand, model.seq_length)\n"
   ]
  },
  {
   "cell_type": "code",
   "execution_count": 82,
   "id": "61c69d44-b67f-4f71-b10b-5dc6c7b867f0",
   "metadata": {},
   "outputs": [],
   "source": [
    "# TSS bin indeces\n",
    "bins = [447, 448]"
   ]
  },
  {
   "cell_type": "code",
   "execution_count": 83,
   "id": "502ab1fc-bcb5-444d-ab7b-8351db4f7463",
   "metadata": {},
   "outputs": [],
   "source": [
    "wt = model.predict(wt_seq)[0,:,0]\n"
   ]
  },
  {
   "cell_type": "code",
   "execution_count": 84,
   "id": "34adb807-c057-4993-aa1a-dc2bf161d288",
   "metadata": {},
   "outputs": [
    {
     "data": {
      "text/plain": [
       "<Axes: >"
      ]
     },
     "execution_count": 84,
     "metadata": {},
     "output_type": "execute_result"
    },
    {
     "data": {
      "image/png": "[encoded data removed]",
      "text/plain": [
       "<Figure size 2000x200 with 1 Axes>"
      ]
     },
     "metadata": {},
     "output_type": "display_data"
    }
   ],
   "source": [
    "utils.plot_track([wt], color='green', zoom=[0, 896], marks=bins)\n"
   ]
  },
  {
   "cell_type": "markdown",
   "id": "727193db-efab-48b9-9fe8-7fd4ed36b89a",
   "metadata": {},
   "source": [
    "# Multiplicity test\n",
    "In this example we will test the saturation effect of (5Kb) CRE tile in the context of an enhancing context sequence of ZNF93 gene. \n",
    "\n",
    "To run the test we need:\n",
    "- a loaded model\n",
    "- onehot encoded sequence (WT) of the sequence\n",
    "- list of start and end coordiantes of the TSS tile\n",
    "- list of start and end coordiantes to place the CRE in for the control case (we will use the original position)\n",
    "- onehot encoded sequence of the CRE tile\n",
    "- list of lists of start and end coordiantes to embed/test CRE effect\n",
    "- num_shuffle - number of shuffled\n",
    "- number of iterations to run or copies to insert\n",
    "- np.argmax or np.argmin to optimize for enhancers or silencers"
   ]
  },
  {
   "cell_type": "code",
   "execution_count": 85,
   "id": "fa851a1f-f266-4142-821b-333d08aa684b",
   "metadata": {},
   "outputs": [
    {
     "name": "stdout",
     "output_type": "stream",
     "text": [
      "Enhancing tile at position 105804 - 110804\n",
      "TSS tile at center position 95804 - 100804\n"
     ]
    }
   ],
   "source": [
    "\n",
    "perturb_window = 5000\n",
    "N_shuffles = 10\n",
    "num_copies = 3\n",
    "tss_tile, cre_tiles = utils.set_tile_range(model.seq_length, perturb_window)\n",
    "enhancing_cre = [105804, 110804]\n",
    "print(f'Enhancing tile at position {enhancing_cre[0]} - {enhancing_cre[1]}')\n",
    "print(f'TSS tile at center position {tss_tile[0]} - {tss_tile[1]}')"
   ]
  },
  {
   "cell_type": "markdown",
   "id": "b0193ee8-b6d3-4e89-ad06-7448ae91ef62",
   "metadata": {},
   "source": [
    "## Multiplicity effect of an enhancing tile of ZNF93 gene TSS"
   ]
  },
  {
   "cell_type": "code",
   "execution_count": 86,
   "id": "52086ff5-48a3-45b2-99ad-818cd054e529",
   "metadata": {},
   "outputs": [
    {
     "name": "stderr",
     "output_type": "stream",
     "text": [
      "100%|████████████████████████████████████████████████████████████████████████████| 3/3 [08:41<00:00, 173.86s/it]\n"
     ]
    }
   ],
   "source": [
    "model.bin_index = [447, 448]\n",
    "cre_seq = wt_seq[enhancing_cre[0]:enhancing_cre[1]].copy()\n",
    "result_summary = creme.multiplicity_test(model, wt_seq, tss_tile, enhancing_cre, cre_seq,\n",
    "                                         cre_tiles, N_shuffles, num_copies, np.argmax)"
   ]
  },
  {
   "cell_type": "code",
   "execution_count": 87,
   "id": "4fe7f59a-ab6a-4e25-934c-0b08b25f2798",
   "metadata": {},
   "outputs": [
    {
     "data": {
      "text/plain": [
       "dict_keys(['only_tss_pred', 'tss_and_cre_pred', 'best_tss_signal', 'selected_tile_order', 'all_mutants'])"
      ]
     },
     "execution_count": 87,
     "metadata": {},
     "output_type": "execute_result"
    }
   ],
   "source": [
    "result_summary.keys()"
   ]
  },
  {
   "cell_type": "code",
   "execution_count": 88,
   "id": "2f2ac3f0-90d1-4c21-8f1a-51683cdc1d51",
   "metadata": {},
   "outputs": [
    {
     "name": "stdout",
     "output_type": "stream",
     "text": [
      "TSS signal with CRE copies at the optimal positions: [3.631044265255332, 19.56945643424988, 32.70301297903061]\n",
      "TSS signal in shuffled context: 0.12562379240989685\n",
      "TSS signal in shuffled context + CRE at original position: 3.631044387817383\n",
      "Tile order: [[105804, 110804], [100804, 105804], [120804, 125804]]\n"
     ]
    }
   ],
   "source": [
    "print(f\"TSS signal with CRE copies at the optimal positions: {result_summary['best_tss_signal']}\")\n",
    "print(f\"TSS signal in shuffled context: {result_summary['only_tss_pred']}\")\n",
    "print(f\"TSS signal in shuffled context + CRE at original position: {result_summary['tss_and_cre_pred']}\")\n",
    "print(f\"Tile order: {result_summary['selected_tile_order']}\")"
   ]
  },
  {
   "cell_type": "markdown",
   "id": "89a3bd00-43bd-4d16-8d35-e60ab8df038d",
   "metadata": {},
   "source": [
    "Now, let's recreate the final sequence at each iteration and plot the entire track (instead of only looking at the TSS signal)."
   ]
  },
  {
   "cell_type": "code",
   "execution_count": 92,
   "id": "ce80c893-e966-4543-bb37-521538567a9f",
   "metadata": {},
   "outputs": [],
   "source": [
    "model.bin_index = None\n",
    "background_seqs_wth_TSS = shuffle.dinuc_shuffle(wt_seq, 10)\n",
    "background_seqs_wth_TSS[:, tss_tile[0]:tss_tile[1], :] = wt_seq[tss_tile[0]:tss_tile[1], :]\n",
    "just_tss_pred = model.predict(background_seqs_wth_TSS)[0,:,0]"
   ]
  },
  {
   "cell_type": "code",
   "execution_count": 90,
   "id": "b6f13879-7303-48b4-b4a6-55f02d5a2169",
   "metadata": {},
   "outputs": [
    {
     "name": "stdout",
     "output_type": "stream",
     "text": [
      "[105804, 110804]\n",
      "[100804, 105804]\n",
      "[120804, 125804]\n"
     ]
    }
   ],
   "source": [
    "CREs_and_TSS = background_seqs_wth_TSS.copy()\n",
    "preds_per_iter = []\n",
    "for tile_position in result_summary['selected_tile_order']:\n",
    "    print(tile_position)\n",
    "    CREs_and_TSS[:, tile_position[0]:tile_position[1],:] = cre_seq.copy()\n",
    "    preds_per_iter.append(np.array(model.predict(CREs_and_TSS)[:,:,0]).mean(axis=0))\n",
    "    "
   ]
  },
  {
   "cell_type": "code",
   "execution_count": 98,
   "id": "9be2fd38-9d9c-47d0-be26-0ef0b7de1ddc",
   "metadata": {},
   "outputs": [
    {
     "data": {
      "text/plain": [
       "<matplotlib.legend.Legend at 0x7fd7404818b0>"
      ]
     },
     "execution_count": 98,
     "metadata": {},
     "output_type": "execute_result"
    },
    {
     "data": {
      "image/png": "[encoded data removed]",
      "text/plain": [
       "<Figure size 2000x200 with 1 Axes>"
      ]
     },
     "metadata": {},
     "output_type": "display_data"
    }
   ],
   "source": [
    "ax=utils.plot_track([just_tss_pred], label='No CRE', color='k', alpha=1)\n",
    "for i, p in enumerate(preds_per_iter):\n",
    "    utils.plot_track([p], zoom=[400, 500], ax=ax, label=f\"{i+1} CRE copies\")\n",
    "plt.legend()"
   ]
  },
  {
   "cell_type": "code",
   "execution_count": null,
   "id": "f25d81dc-793a-4692-a6e8-15050ab459f1",
   "metadata": {},
   "outputs": [],
   "source": []
  }
 ],
 "metadata": {
  "kernelspec": {
   "display_name": "Python 3 (ipykernel)",
   "language": "python",
   "name": "python3"
  },
  "language_info": {
   "codemirror_mode": {
    "name": "ipython",
    "version": 3
   },
   "file_extension": ".py",
   "mimetype": "text/x-python",
   "name": "python",
   "nbconvert_exporter": "python",
   "pygments_lexer": "ipython3",
   "version": "3.9.16"
  }
 },
 "nbformat": 4,
 "nbformat_minor": 5
}
