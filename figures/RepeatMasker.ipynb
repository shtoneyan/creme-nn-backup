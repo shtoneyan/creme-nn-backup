{
 "cells": [
  {
   "cell_type": "code",
   "execution_count": 41,
   "id": "1070e39c-9763-4d24-9bf5-aad4f9e0f072",
   "metadata": {},
   "outputs": [],
   "source": [
    "import pandas as pd\n",
    "import glob"
   ]
  },
  {
   "cell_type": "code",
   "execution_count": null,
   "id": "62e756b0-a81d-41b7-a992-fdabf0c1673d",
   "metadata": {},
   "outputs": [],
   "source": [
    "model_seq_length = 196608\n",
    "out_dir = utils.make_dir('../results/XSTREME/')\n",
    "seq_parser = utils.SequenceParser('../data/GRCh38.primary_assembly.genome.fa')\n",
    "for cre_type in ['Enhancer', 'Silencer']:\n",
    "    sufficient_cres = pd.read_csv('../results/summary_csvs/enformer/sufficient_CREs.csv')\n",
    "    sufficient_cres = sufficient_cres[sufficient_cres['tile class']==cre_type\n",
    "    for cell, df in sufficient_cres.groupby('cell_line'):\n",
    "    with open(f'{out_dir}/{cell}_{cre_type.lower()}s.fa', 'w') as f:\n",
    "        for i, row in df.iterrows():\n",
    "            chrom, tss_site, strand = row['seq_id'].split('_')[1:]\n",
    "            wt_seq = seq_parser.extract_seq_centered(chrom, int(tss_site), strand, model.seq_length, False)  # get seq\n",
    "            wt_cre = wt_seq[row['tile_start']: row['tile_end']]\n",
    "            f.write(f\">{row['seq_id']}_{row['tile_start']}_{row['tile_end']}\\n\")\n",
    "            f.write(wt_cre)\n",
    "            f.write('\\n')"
   ]
  },
  {
   "cell_type": "code",
   "execution_count": null,
   "id": "17440cd8-6e38-407e-ab5a-6c5cd57b6bd3",
   "metadata": {},
   "outputs": [],
   "source": []
  },
  {
   "cell_type": "code",
   "execution_count": null,
   "id": "edce27c5-e71c-4992-ad28-c3c5e2ad7a65",
   "metadata": {},
   "outputs": [],
   "source": [
    "#!RepeatMasker --species human -dir ../results/repeatmasker ../results/XSTREME/GM12878_enhancers.fa"
   ]
  },
  {
   "cell_type": "code",
   "execution_count": 77,
   "id": "90da3e01-f95c-4d0c-8067-517f996d0912",
   "metadata": {},
   "outputs": [],
   "source": [
    "\n",
    "merged_dfs = []\n",
    "for cell_line in ['K562', 'GM12878', 'PC-3']:\n",
    "    dfs = []\n",
    "    for cre_type in ['enhancers', 'silencers']:\n",
    "        f = f\"../results/repeatmasker/{cell_line}_{cre_type}.fa.tbl\"\n",
    "        file = open(f, \"r\")\n",
    "        df_lines = []\n",
    "        while True:\n",
    "            content=file.readline()\n",
    "            if 'SINEs' in content or 'LINEs' in content or 'LTR' in content or 'DNA elements' in content:\n",
    "                percentage = content.split()[-2]\n",
    "                \n",
    "                df_lines.append([content.split()[0], percentage])\n",
    "                \n",
    "            if not content:\n",
    "                break\n",
    "        file.close()\n",
    "    \n",
    "        df = pd.DataFrame(df_lines)\n",
    "        df['cell_line'] = cell_line\n",
    "        df['cre'] = cre_type\n",
    "\n",
    "        dfs.append(df)\n",
    "    merged_dfs.append(dfs[0].merge(dfs[1], on=[0]))\n"
   ]
  },
  {
   "cell_type": "code",
   "execution_count": 78,
   "id": "a4df55e6-57a6-40a7-8835-3af1f57326a5",
   "metadata": {},
   "outputs": [
    {
     "data": {
      "text/html": [
       "<div>\n",
       "<style scoped>\n",
       "    .dataframe tbody tr th:only-of-type {\n",
       "        vertical-align: middle;\n",
       "    }\n",
       "\n",
       "    .dataframe tbody tr th {\n",
       "        vertical-align: top;\n",
       "    }\n",
       "\n",
       "    .dataframe thead th {\n",
       "        text-align: right;\n",
       "    }\n",
       "</style>\n",
       "<table border=\"1\" class=\"dataframe\">\n",
       "  <thead>\n",
       "    <tr style=\"text-align: right;\">\n",
       "      <th></th>\n",
       "      <th>0</th>\n",
       "      <th>1_x</th>\n",
       "      <th>cell_line_x</th>\n",
       "      <th>cre_x</th>\n",
       "      <th>1_y</th>\n",
       "      <th>cell_line_y</th>\n",
       "      <th>cre_y</th>\n",
       "    </tr>\n",
       "  </thead>\n",
       "  <tbody>\n",
       "    <tr>\n",
       "      <th>0</th>\n",
       "      <td>SINEs:</td>\n",
       "      <td>19.66</td>\n",
       "      <td>K562</td>\n",
       "      <td>enhancers</td>\n",
       "      <td>17.08</td>\n",
       "      <td>K562</td>\n",
       "      <td>silencers</td>\n",
       "    </tr>\n",
       "    <tr>\n",
       "      <th>1</th>\n",
       "      <td>LINEs:</td>\n",
       "      <td>9.73</td>\n",
       "      <td>K562</td>\n",
       "      <td>enhancers</td>\n",
       "      <td>16.57</td>\n",
       "      <td>K562</td>\n",
       "      <td>silencers</td>\n",
       "    </tr>\n",
       "    <tr>\n",
       "      <th>2</th>\n",
       "      <td>LTR</td>\n",
       "      <td>2.64</td>\n",
       "      <td>K562</td>\n",
       "      <td>enhancers</td>\n",
       "      <td>7.37</td>\n",
       "      <td>K562</td>\n",
       "      <td>silencers</td>\n",
       "    </tr>\n",
       "    <tr>\n",
       "      <th>3</th>\n",
       "      <td>DNA</td>\n",
       "      <td>3.24</td>\n",
       "      <td>K562</td>\n",
       "      <td>enhancers</td>\n",
       "      <td>3.15</td>\n",
       "      <td>K562</td>\n",
       "      <td>silencers</td>\n",
       "    </tr>\n",
       "  </tbody>\n",
       "</table>\n",
       "</div>"
      ],
      "text/plain": [
       "        0    1_x cell_line_x      cre_x    1_y cell_line_y      cre_y\n",
       "0  SINEs:  19.66        K562  enhancers  17.08        K562  silencers\n",
       "1  LINEs:   9.73        K562  enhancers  16.57        K562  silencers\n",
       "2     LTR   2.64        K562  enhancers   7.37        K562  silencers\n",
       "3     DNA   3.24        K562  enhancers   3.15        K562  silencers"
      ]
     },
     "execution_count": 78,
     "metadata": {},
     "output_type": "execute_result"
    }
   ],
   "source": [
    "merged_dfs[0]"
   ]
  },
  {
   "cell_type": "code",
   "execution_count": 84,
   "id": "4479a878-d707-4803-ae01-5c477a8e66dc",
   "metadata": {},
   "outputs": [
    {
     "data": {
      "text/plain": [
       "0    10.69\n",
       "1    15.64\n",
       "2     4.49\n",
       "3     3.89\n",
       "Name: 1_y, dtype: object"
      ]
     },
     "execution_count": 84,
     "metadata": {},
     "output_type": "execute_result"
    }
   ],
   "source": [
    "merged_dfs[1]['1_y']"
   ]
  },
  {
   "cell_type": "code",
   "execution_count": 86,
   "id": "7cc356f1-ffef-4b00-9a10-f338ee97d6bb",
   "metadata": {},
   "outputs": [
    {
     "data": {
      "text/plain": [
       "0    12.22\n",
       "1    11.60\n",
       "2     6.28\n",
       "3     2.64\n",
       "Name: 1_y, dtype: object"
      ]
     },
     "execution_count": 86,
     "metadata": {},
     "output_type": "execute_result"
    }
   ],
   "source": [
    "merged_dfs[2]['1_y']"
   ]
  },
  {
   "cell_type": "code",
   "execution_count": null,
   "id": "62b2d9ed-3f3e-497f-9d5d-af742f117be8",
   "metadata": {},
   "outputs": [],
   "source": []
  }
 ],
 "metadata": {
  "kernelspec": {
   "display_name": "Python 3 (ipykernel)",
   "language": "python",
   "name": "python3"
  },
  "language_info": {
   "codemirror_mode": {
    "name": "ipython",
    "version": 3
   },
   "file_extension": ".py",
   "mimetype": "text/x-python",
   "name": "python",
   "nbconvert_exporter": "python",
   "pygments_lexer": "ipython3",
   "version": "3.9.16"
  }
 },
 "nbformat": 4,
 "nbformat_minor": 5
}
