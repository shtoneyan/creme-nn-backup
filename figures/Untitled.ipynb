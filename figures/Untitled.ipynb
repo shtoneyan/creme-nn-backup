{
 "cells": [
  {
   "cell_type": "code",
   "execution_count": 32,
   "id": "d829711b-a4d4-40d9-bb34-aecf9cacbbcf",
   "metadata": {},
   "outputs": [],
   "source": [
    "import pandas as pd\n",
    "import os, shutil\n",
    "from tqdm import tqdm"
   ]
  },
  {
   "cell_type": "code",
   "execution_count": 22,
   "id": "371a172d-3094-457e-a549-a69481b7e6e2",
   "metadata": {},
   "outputs": [],
   "source": [
    "df = pd.read_csv('../results/summary_csvs/enformer/context_swap_test.csv')\n"
   ]
  },
  {
   "cell_type": "code",
   "execution_count": 20,
   "id": "97a09a1c-66cb-4808-bd89-063f5081ccb4",
   "metadata": {},
   "outputs": [],
   "source": [
    "for i, row in df.iterrows():\n",
    "    if not os.path.isfile(f\"src_{row['source']}_dest_{row['target']}.pickle\"):\n",
    "        print('s')\n",
    "        break"
   ]
  },
  {
   "cell_type": "code",
   "execution_count": 7,
   "id": "63b8b9e2-3ee0-4023-9062-767c44dda53d",
   "metadata": {},
   "outputs": [],
   "source": [
    "minimal_list = df['seq_id'].values"
   ]
  },
  {
   "cell_type": "code",
   "execution_count": 30,
   "id": "3b6e541f-4abc-4dff-bbd3-c631de624a6d",
   "metadata": {},
   "outputs": [],
   "source": [
    "minimal_list = [f\"src_{row['source']}_dest_{row['target']}.pickle\" for _, row in df.iterrows()]"
   ]
  },
  {
   "cell_type": "code",
   "execution_count": 38,
   "id": "be761735-076c-45d9-a79e-b6005654784e",
   "metadata": {},
   "outputs": [
    {
     "name": "stderr",
     "output_type": "stream",
     "text": [
      "100%|██████████████████████████████████████████████████████████████| 411107/411107 [29:05<00:00, 235.46it/s]\n"
     ]
    }
   ],
   "source": [
    "# for cell_line in os.listdir('../results/context_swap_test/enformer/'):\n",
    "cell_line = 'K562'\n",
    "for file in tqdm(os.listdir(f'../results/context_swap_test/enformer/{cell_line}/')):\n",
    "    \n",
    "    if file not in minimal_list:        \n",
    "        shutil.move(f'../results/context_swap_test/enformer/{cell_line}/{file}',\n",
    "                    f'/home/toneyan/creme-nn_bad_repo/results/context_swap_test/enformer/{cell_line}/{file}')"
   ]
  },
  {
   "cell_type": "code",
   "execution_count": 36,
   "id": "41f97418-dc4d-4fb5-837f-af3ba48d725a",
   "metadata": {},
   "outputs": [
    {
     "data": {
      "text/plain": [
       "'../results/context_swap_test/enformer/K562/src_ATP1B1_chr1_169106682_+_dest_AGBL3_chr7_134986507_+.pickle'"
      ]
     },
     "execution_count": 36,
     "metadata": {},
     "output_type": "execute_result"
    }
   ],
   "source": [
    "f\"../results/context_swap_test/enformer/{cell_line}/{file}\""
   ]
  },
  {
   "cell_type": "code",
   "execution_count": 37,
   "id": "d122ee3c-01d6-4439-9324-bd0c34e22a04",
   "metadata": {},
   "outputs": [
    {
     "data": {
      "text/plain": [
       "'/home/toneyan/creme-nn_bad_repo/results/context_swap_test/enformer/K562/src_ATP1B1_chr1_169106682_+_dest_AGBL3_chr7_134986507_+.pickle'"
      ]
     },
     "execution_count": 37,
     "metadata": {},
     "output_type": "execute_result"
    }
   ],
   "source": [
    "f'/home/toneyan/creme-nn_bad_repo/results/context_swap_test/enformer/{cell_line}/{file}'"
   ]
  },
  {
   "cell_type": "code",
   "execution_count": null,
   "id": "3d19f1f4-1145-4a31-8f81-955be5ae8cf3",
   "metadata": {},
   "outputs": [],
   "source": []
  }
 ],
 "metadata": {
  "kernelspec": {
   "display_name": "Python 3 (ipykernel)",
   "language": "python",
   "name": "python3"
  },
  "language_info": {
   "codemirror_mode": {
    "name": "ipython",
    "version": 3
   },
   "file_extension": ".py",
   "mimetype": "text/x-python",
   "name": "python",
   "nbconvert_exporter": "python",
   "pygments_lexer": "ipython3",
   "version": "3.9.16"
  }
 },
 "nbformat": 4,
 "nbformat_minor": 5
}
